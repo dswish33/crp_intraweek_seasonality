{
 "cells": [
  {
   "cell_type": "code",
   "execution_count": 24,
   "id": "63924207",
   "metadata": {},
   "outputs": [],
   "source": [
    "import pandas as pd\n",
    "import numpy as np\n",
    "import requests\n",
    "from datetime import datetime, timedelta\n",
    "\n",
    "import seaborn as sns\n",
    "import matplotlib.pyplot as plt\n",
    "\n",
    "from scipy import stats\n",
    "import statsmodels.api as sm"
   ]
  },
  {
   "cell_type": "code",
   "execution_count": 2,
   "id": "069614b1",
   "metadata": {},
   "outputs": [],
   "source": [
    "def get_data(symbol, after, period='1h'):\n",
    "\n",
    "    #period input, kraken takes data by minutes\n",
    "    \n",
    "    timeframes = {\n",
    "        '3min': 3,\n",
    "        '5min': 5,\n",
    "        '15min': 15,\n",
    "        '1h': 60,\n",
    "        '3h': 180,\n",
    "        '4h': 240,\n",
    "        '1d': 1440\n",
    "    }\n",
    "    \n",
    "    #takes 'after' function input and converts to unix timestamp so we can use for api\n",
    "    #assigns 'interval' variable to period input\n",
    "    \n",
    "    tme = after\n",
    "    interval = timeframes.get(period)\n",
    "    \n",
    "    tme = str(tme)\n",
    "    since_obj = datetime.strptime(tme, '%Y-%m-%d %H:%M:%S')\n",
    "    since = int(since_obj.timestamp())\n",
    "    \n",
    "    #get data\n",
    "    \n",
    "    url = f'https://api.kraken.com/0/public/OHLC?pair={symbol}&since={since}&interval={interval}'.format(symbol=symbol, since = since, interval = interval)\n",
    "    \n",
    "    resp = requests.get(url)\n",
    "    resp.raise_for_status()\n",
    "    data = resp.json()\n",
    "    \n",
    "    #parse through api return and set up data frame with columns and time index\n",
    "    \n",
    "    df = pd.DataFrame(data['result'][str(symbol)], columns=['Time', 'OpenPrice', 'HighPrice', 'LowPrice', 'ClosePrice', 'VWAP','Volume', 'Transactions'])\n",
    "    df['Time'] = pd.to_datetime(df['Time'], unit='s')\n",
    "    df.set_index('Time', inplace=True)\n",
    "    \n",
    "    #edits to the data frame, we only really want close price\n",
    "\n",
    "    df[str(symbol)] = df['ClosePrice']\n",
    "    df.drop(['OpenPrice', 'HighPrice', 'LowPrice', 'ClosePrice', 'VWAP', 'Volume', 'Transactions'], axis=1, inplace=True)\n",
    "    df.astype(float)\n",
    "    df[symbol] = pd.to_numeric(df[symbol], errors = 'coerce')\n",
    "    \n",
    "\n",
    "    return df"
   ]
  },
  {
   "cell_type": "code",
   "execution_count": 3,
   "id": "5116683c",
   "metadata": {},
   "outputs": [],
   "source": [
    "days_of_week = {0 : 'Monday',\n",
    "                1 : 'Tuesday',\n",
    "                2 : 'Wednesday',\n",
    "                3 : 'Thursday',\n",
    "                4 : 'Friday',\n",
    "                5 : 'Saturday',\n",
    "                6 : 'Sunday'  \n",
    "                }"
   ]
  },
  {
   "cell_type": "code",
   "execution_count": null,
   "id": "6f8570d4",
   "metadata": {},
   "outputs": [],
   "source": [
    "#simple returns\n",
    "\n",
    "#def daily_szn(pair, after):\n",
    "\n",
    "    #asset = get_data(symbol = pair, after = after, period = '1d')\n",
    "    \n",
    "    #asset_pct_chng = asset.pct_change()\n",
    "    #asset_pct_chng['Day of Week'] = asset_pct_chng.index.dayofweek\n",
    "    \n",
    "    #avg_per_day = asset_pct_chng.groupby('Day of Week')[pair].mean()\n",
    "    \n",
    "    #avg_per_day.index = days_of_week.values()\n",
    "    #avg_per_day = avg_per_day * 100\n",
    "    \n",
    "    #return avg_per_day"
   ]
  },
  {
   "cell_type": "code",
   "execution_count": 38,
   "id": "ea670b57",
   "metadata": {},
   "outputs": [],
   "source": [
    "# revealing what inspired this project. function calculates average return for given asset over allotted time period\n",
    "# grouped by day of the week\n",
    "# log returns\n",
    "\n",
    "def daily_szn2(pair, after):\n",
    "    \n",
    "    asset = get_data(symbol = pair, after = after, period = '1d')\n",
    "    \n",
    "    asset_pct_chng = np.log(asset/asset.shift(1))\n",
    "    asset_pct_chng['Day of Week'] = asset_pct_chng.index.dayofweek\n",
    "    \n",
    "    avg_per_day = asset_pct_chng.groupby('Day of Week')[pair].mean()\n",
    "    \n",
    "    avg_per_day.index = days_of_week.values()\n",
    "    avg_per_day = avg_per_day * 100\n",
    "    \n",
    "    return avg_per_day"
   ]
  },
  {
   "cell_type": "code",
   "execution_count": 39,
   "id": "ea5b6017",
   "metadata": {},
   "outputs": [
    {
     "data": {
      "text/plain": [
       "Monday      -0.497002\n",
       "Tuesday      1.426778\n",
       "Wednesday   -0.747351\n",
       "Thursday    -0.594644\n",
       "Friday       0.022909\n",
       "Saturday    -0.137899\n",
       "Sunday       0.135887\n",
       "Name: XBTUSDT, dtype: float64"
      ]
     },
     "execution_count": 39,
     "metadata": {},
     "output_type": "execute_result"
    }
   ],
   "source": [
    "btc_avg = daily_szn2(pair = 'XBTUSDT', after = '2023-04-01 00:00:00')\n",
    "btc_avg"
   ]
  },
  {
   "cell_type": "code",
   "execution_count": 40,
   "id": "217c001d",
   "metadata": {},
   "outputs": [
    {
     "data": {
      "text/plain": [
       "Monday      -1.439700\n",
       "Tuesday      1.269249\n",
       "Wednesday   -0.969264\n",
       "Thursday     0.215030\n",
       "Friday       1.031436\n",
       "Saturday    -0.494584\n",
       "Sunday       0.104541\n",
       "Name: SOLUSDT, dtype: float64"
      ]
     },
     "execution_count": 40,
     "metadata": {},
     "output_type": "execute_result"
    }
   ],
   "source": [
    "sol_avg = daily_szn2(pair = 'SOLUSDT', after = '2023-04-01 00:00:00')\n",
    "sol_avg"
   ]
  },
  {
   "cell_type": "code",
   "execution_count": 41,
   "id": "8b85a345",
   "metadata": {},
   "outputs": [],
   "source": [
    "# difference in means below"
   ]
  },
  {
   "cell_type": "code",
   "execution_count": 42,
   "id": "b71d0c50",
   "metadata": {},
   "outputs": [
    {
     "data": {
      "text/plain": [
       "2.471135808803669"
      ]
     },
     "execution_count": 42,
     "metadata": {},
     "output_type": "execute_result"
    }
   ],
   "source": [
    "mean_diff_sol = abs(sol_avg.loc['Friday'] - sol_avg.loc['Monday'])\n",
    "mean_diff_sol"
   ]
  },
  {
   "cell_type": "code",
   "execution_count": 43,
   "id": "069bae72",
   "metadata": {},
   "outputs": [
    {
     "data": {
      "text/plain": [
       "1.9237798529057972"
      ]
     },
     "execution_count": 43,
     "metadata": {},
     "output_type": "execute_result"
    }
   ],
   "source": [
    "mean_diff_btc = abs(btc_avg.loc['Tuesday'] - btc_avg.loc['Monday'])\n",
    "mean_diff_btc"
   ]
  },
  {
   "cell_type": "code",
   "execution_count": null,
   "id": "1b408513",
   "metadata": {},
   "outputs": [],
   "source": [
    "# we infer that there are some seasonality effects on sol monday/friday and btc monday/tuesday\n",
    "# we will run some statistical tests to asses linearity and correlation between possible outcomes\n",
    "# at first glance, simple long/short trade may be best option (i.e. short btc monday, long btc tuesday, short sol\n",
    "# monday, long sol friday)"
   ]
  },
  {
   "cell_type": "code",
   "execution_count": 4,
   "id": "8a800081",
   "metadata": {},
   "outputs": [],
   "source": [
    "# sol data\n",
    "sol_data = get_data(symbol = 'SOLUSDT', after = '2023-04-01 00:00:00', period = '1d')\n",
    "\n",
    "sol_pct_chng = np.log(sol_data/sol_data.shift(1))\n",
    "sol_pct_chng['Day of Week'] = sol_pct_chng.index.dayofweek\n",
    "sol_pct_chng.set_index('Day of Week', inplace = True)\n",
    "    \n",
    "sol_pct_chng = sol_pct_chng * 100\n",
    " \n",
    "\n",
    "# friday returns   \n",
    "sol_fridays = sol_pct_chng[sol_pct_chng.index == 4]\n",
    "sol_fridays.index = ['week ' + str(i) for i in range(1, len(sol_fridays) +1)]\n",
    "\n",
    "#for later, monday returns\n",
    "sol_mondays = sol_pct_chng[sol_pct_chng.index == 0]\n",
    "sol_mondays.index = ['week ' + str(i) for i in range(1, len(sol_mondays) +1)]"
   ]
  },
  {
   "cell_type": "code",
   "execution_count": 5,
   "id": "32e2352f",
   "metadata": {},
   "outputs": [],
   "source": [
    "# btc data\n",
    "btc_data = get_data(symbol = 'XBTUSDT', after = '2023-04-01 00:00:00', period = '1d')\n",
    "    \n",
    "btc_pct_chng = np.log(btc_data/btc_data.shift(1))\n",
    "btc_pct_chng['Day of Week'] = btc_pct_chng.index.dayofweek\n",
    "btc_pct_chng.set_index('Day of Week', inplace = True)\n",
    "    \n",
    "btc_pct_chng = btc_pct_chng * 100\n",
    "   \n",
    "# tuesday returns\n",
    "btc_tuesdays = btc_pct_chng[btc_pct_chng.index == 1]\n",
    "btc_tuesdays.index = ['week ' + str(i) for i in range(1, len(btc_tuesdays) +1)]  \n",
    "\n",
    "#for later, monday returns\n",
    "btc_mondays = btc_pct_chng[btc_pct_chng.index == 0]\n",
    "btc_mondays.index = ['week ' + str(i) for i in range(1, len(btc_mondays) +1)]"
   ]
  },
  {
   "cell_type": "code",
   "execution_count": null,
   "id": "3c563587",
   "metadata": {},
   "outputs": [],
   "source": [
    "# Is ther correlation between performance of sol on fridays vs. performance of btc on tuesdays?"
   ]
  },
  {
   "cell_type": "code",
   "execution_count": 37,
   "id": "dd94b4ce",
   "metadata": {},
   "outputs": [
    {
     "name": "stdout",
     "output_type": "stream",
     "text": [
      "corr coef = -0.39283149397258116\n",
      "pval = 0.07053009848017111\n"
     ]
    }
   ],
   "source": [
    "tf_corr_coef, tf_p_val = stats.pearsonr(btc_tuesdays['XBTUSDT'], sol_fridays['SOLUSDT'])\n",
    "print(f'corr coef = {tf_corr_coef}')\n",
    "print(f'pval = {tf_p_val}')"
   ]
  },
  {
   "cell_type": "code",
   "execution_count": 7,
   "id": "5dca096d",
   "metadata": {},
   "outputs": [],
   "source": [
    "# no real correlation between longing sol on fridays vs. longing btc on tuesdays,\n",
    "# if anything, we see slight decorrelation between returns of sol on fridays and btc on tuesdays\n",
    "# may research this later, not within scope of this project and may be due to other market conditions"
   ]
  },
  {
   "cell_type": "code",
   "execution_count": 8,
   "id": "89056970",
   "metadata": {},
   "outputs": [],
   "source": [
    "# function calculates difference of returns between two days for a given asset over alotted time period.\n",
    "\n",
    "def diff(pair, after, day_1, day_2):\n",
    "    \n",
    "    # get data and set up df with pct change, indexed by day of the week integers, as seen prior\n",
    "    \n",
    "    asset = get_data(symbol = pair, after = after, period = '1d')\n",
    "    \n",
    "    asset_pct_chng = np.log(asset/asset.shift(1))\n",
    "    asset_pct_chng['Day of Week'] = asset_pct_chng.index.dayofweek\n",
    "    asset_pct_chng.set_index('Day of Week', inplace = True)\n",
    "    \n",
    "    asset_pct_chng = asset_pct_chng * 100\n",
    "    \n",
    "    # parses through df and groups returns by day of the week into separate series\n",
    "    \n",
    "    mondays = asset_pct_chng[asset_pct_chng.index == 0]\n",
    "    mondays.index = ['week ' + str(i) for i in range(1, len(mondays) +1)] \n",
    "    \n",
    "    tuesdays = asset_pct_chng[asset_pct_chng.index == 1]\n",
    "    tuesdays.index = ['week ' + str(i) for i in range(1, len(tuesdays) +1)]\n",
    "    \n",
    "    wednesdays = asset_pct_chng[asset_pct_chng.index == 2]\n",
    "    wednesdays.index = ['week ' + str(i) for i in range(1, len(wednesdays) +1)]\n",
    "    \n",
    "    thursdays = asset_pct_chng[asset_pct_chng.index == 3]\n",
    "    thursdays.index = ['week ' + str(i) for i in range(1, len(thursdays) +1)]\n",
    "    \n",
    "    fridays = asset_pct_chng[asset_pct_chng.index == 4]\n",
    "    fridays.index = ['week ' + str(i) for i in range(1, len(fridays) +1)]\n",
    "    \n",
    "    saturdays = asset_pct_chng[asset_pct_chng.index == 5]\n",
    "    saturdays.index = ['week ' + str(i) for i in range(1, len(saturdays) +1)]\n",
    "    \n",
    "    sundays = asset_pct_chng[asset_pct_chng.index == 6]\n",
    "    sundays.index = ['week ' + str(i) for i in range(1, len(sundays) +1)]\n",
    "    \n",
    "    # calculate the desired difference\n",
    "    \n",
    "    week_dict = {'mondays' : mondays,\n",
    "                 'tuesdays' : tuesdays,\n",
    "                 'wednesdays' : wednesdays,\n",
    "                 'thursdays' : thursdays,\n",
    "                 'fridays' : fridays,\n",
    "                 'saturdays' : saturdays,\n",
    "                 'sundays' : sundays\n",
    "                }\n",
    "    \n",
    "    if day_1 in week_dict and day_2 in week_dict:\n",
    "        diff = (week_dict[day_2] - week_dict[day_1])\n",
    "        \n",
    "        \n",
    "    \n",
    "    return diff"
   ]
  },
  {
   "cell_type": "code",
   "execution_count": 9,
   "id": "c87cf317",
   "metadata": {},
   "outputs": [],
   "source": [
    "# in other words, function shows returns of long/short strategy by week. stored in variables below\n",
    "\n",
    "sol_szn = diff(pair = 'SOLUSDT', after = '2023-04-01 00:00:00', day_1 = 'mondays', day_2 = 'fridays')\n",
    "btc_szn = diff(pair = 'XBTUSDT', after = '2023-04-01 00:00:00', day_1 = 'mondays', day_2 = 'tuesdays')"
   ]
  },
  {
   "cell_type": "code",
   "execution_count": null,
   "id": "7649d424",
   "metadata": {},
   "outputs": [],
   "source": [
    "# Is there correlation between returns of long/short btc and long/short sol?"
   ]
  },
  {
   "cell_type": "code",
   "execution_count": 35,
   "id": "16247ffa",
   "metadata": {},
   "outputs": [
    {
     "name": "stdout",
     "output_type": "stream",
     "text": [
      "corr coef = -0.02893202556944621\n",
      "pval = 0.8983007614734968\n"
     ]
    }
   ],
   "source": [
    "diff_corr_coef, diff_p_val = stats.pearsonr(btc_szn['XBTUSDT'], sol_szn['SOLUSDT'])\n",
    "print(f'corr coef = {diff_corr_coef}')\n",
    "print(f'pval = {diff_p_val}')"
   ]
  },
  {
   "cell_type": "code",
   "execution_count": null,
   "id": "048c02bf",
   "metadata": {},
   "outputs": [],
   "source": [
    "# no correlation significance at all between the returns of long/short sol friday/monday and \n",
    "# long short btc tuesday/monday... about as random as you can get I'd say"
   ]
  },
  {
   "cell_type": "code",
   "execution_count": 11,
   "id": "700c5ad0",
   "metadata": {},
   "outputs": [
    {
     "data": {
      "image/png": "[encoded data removed]",
      "text/plain": [
       "<Figure size 1000x600 with 1 Axes>"
      ]
     },
     "metadata": {},
     "output_type": "display_data"
    }
   ],
   "source": [
    "# visualization of btc mon/tues phenomena (assuming short monday, long tuesday, returns visualized)\n",
    "# aka difference in returns\n",
    "\n",
    "plt.figure(figsize = (10,6))\n",
    "plt.bar(btc_szn.index, btc_szn['XBTUSDT'])\n",
    "plt.xlabel('Week')\n",
    "plt.ylabel('Returns (%)')\n",
    "plt.title('BTC Mon/Tues Phenomena')\n",
    "\n",
    "plt.xticks(rotation = 45)\n",
    "plt.tight_layout()\n",
    "\n",
    "plt.show()"
   ]
  },
  {
   "cell_type": "code",
   "execution_count": 12,
   "id": "a5686263",
   "metadata": {},
   "outputs": [
    {
     "data": {
      "image/png": "[encoded data removed]",
      "text/plain": [
       "<Figure size 1000x600 with 1 Axes>"
      ]
     },
     "metadata": {},
     "output_type": "display_data"
    }
   ],
   "source": [
    "# visualization of sol mon/fri phenomena (assuming short monday, long friday, returns visualized)\n",
    "# aka difference in returns\n",
    "\n",
    "plt.figure(figsize = (10,6))\n",
    "plt.bar(sol_szn.index, sol_szn['SOLUSDT'])\n",
    "plt.xlabel('Week')\n",
    "plt.ylabel('Returns (%)')\n",
    "plt.title('SOL Mon/Fri Phenomena')\n",
    "\n",
    "plt.xticks(rotation = 45)\n",
    "plt.tight_layout()\n",
    "\n",
    "plt.show()"
   ]
  },
  {
   "cell_type": "code",
   "execution_count": 19,
   "id": "03a20236",
   "metadata": {},
   "outputs": [],
   "source": [
    "# linear regression on sol monday vs. friday and btc monday vs. tuesday\n",
    "# is there anything signficant or linear about the success of monday's trade vs. friday's/tuesday's"
   ]
  },
  {
   "cell_type": "code",
   "execution_count": 20,
   "id": "e0b0d48c",
   "metadata": {},
   "outputs": [
    {
     "name": "stdout",
     "output_type": "stream",
     "text": [
      "                            OLS Regression Results                            \n",
      "==============================================================================\n",
      "Dep. Variable:                SOLUSDT   R-squared:                       0.068\n",
      "Model:                            OLS   Adj. R-squared:                  0.021\n",
      "Method:                 Least Squares   F-statistic:                     1.457\n",
      "Date:                Sat, 02 Sep 2023   Prob (F-statistic):              0.242\n",
      "Time:                        12:39:07   Log-Likelihood:                -59.082\n",
      "No. Observations:                  22   AIC:                             122.2\n",
      "Df Residuals:                      20   BIC:                             124.3\n",
      "Df Model:                           1                                         \n",
      "Covariance Type:            nonrobust                                         \n",
      "==============================================================================\n",
      "                 coef    std err          t      P>|t|      [0.025      0.975]\n",
      "------------------------------------------------------------------------------\n",
      "const          1.5215      0.891      1.707      0.103      -0.338       3.381\n",
      "SOLUSDT       -0.3404      0.282     -1.207      0.242      -0.929       0.248\n",
      "==============================================================================\n",
      "Omnibus:                        0.222   Durbin-Watson:                   1.523\n",
      "Prob(Omnibus):                  0.895   Jarque-Bera (JB):                0.333\n",
      "Skew:                           0.202   Prob(JB):                        0.846\n",
      "Kurtosis:                       2.552   Cond. No.                         3.63\n",
      "==============================================================================\n",
      "\n",
      "Notes:\n",
      "[1] Standard Errors assume that the covariance matrix of the errors is correctly specified.\n"
     ]
    }
   ],
   "source": [
    "sol_mondays_neg = (sol_mondays * (-1))\n",
    "\n",
    "x_1 = sm.add_constant(sol_mondays_neg['SOLUSDT'])\n",
    "y_1 = sol_fridays['SOLUSDT']\n",
    "\n",
    "model_1 = sm.OLS(y_1, x_1).fit()\n",
    "\n",
    "print(model_1.summary())"
   ]
  },
  {
   "cell_type": "code",
   "execution_count": 22,
   "id": "e4ea2211",
   "metadata": {},
   "outputs": [
    {
     "name": "stdout",
     "output_type": "stream",
     "text": [
      "                            OLS Regression Results                            \n",
      "==============================================================================\n",
      "Dep. Variable:                XBTUSDT   R-squared:                       0.035\n",
      "Model:                            OLS   Adj. R-squared:                 -0.014\n",
      "Method:                 Least Squares   F-statistic:                    0.7188\n",
      "Date:                Sat, 02 Sep 2023   Prob (F-statistic):              0.407\n",
      "Time:                        12:39:59   Log-Likelihood:                -46.832\n",
      "No. Observations:                  22   AIC:                             97.66\n",
      "Df Residuals:                      20   BIC:                             99.85\n",
      "Df Model:                           1                                         \n",
      "Covariance Type:            nonrobust                                         \n",
      "==============================================================================\n",
      "                 coef    std err          t      P>|t|      [0.025      0.975]\n",
      "------------------------------------------------------------------------------\n",
      "const          1.3352      0.467      2.857      0.010       0.360       2.310\n",
      "XBTUSDT        0.1842      0.217      0.848      0.407      -0.269       0.638\n",
      "==============================================================================\n",
      "Omnibus:                        3.964   Durbin-Watson:                   1.979\n",
      "Prob(Omnibus):                  0.138   Jarque-Bera (JB):                2.955\n",
      "Skew:                           0.896   Prob(JB):                        0.228\n",
      "Kurtosis:                       2.903   Cond. No.                         2.24\n",
      "==============================================================================\n",
      "\n",
      "Notes:\n",
      "[1] Standard Errors assume that the covariance matrix of the errors is correctly specified.\n"
     ]
    }
   ],
   "source": [
    "btc_mondays_neg = (btc_mondays * (-1))\n",
    "\n",
    "x_2 = sm.add_constant(btc_mondays_neg['XBTUSDT'])\n",
    "y_2 = btc_tuesdays['XBTUSDT']\n",
    "\n",
    "model_2 = sm.OLS(y_2, x_2).fit()\n",
    "\n",
    "print(model_2.summary())"
   ]
  },
  {
   "cell_type": "code",
   "execution_count": 18,
   "id": "1de0ac1a",
   "metadata": {},
   "outputs": [],
   "source": [
    "# and we see there is no predictive factor here, as expected. Monday's trade outcome does not serve as\n",
    "# predictor for weight of success on tuesday's/friday's trade"
   ]
  },
  {
   "cell_type": "code",
   "execution_count": null,
   "id": "0c360274",
   "metadata": {},
   "outputs": [],
   "source": [
    "# next we run t-tests to asses significance of the difference of returns, as portrayed in the histograms above"
   ]
  },
  {
   "cell_type": "code",
   "execution_count": 32,
   "id": "6a6a646b",
   "metadata": {},
   "outputs": [
    {
     "name": "stdout",
     "output_type": "stream",
     "text": [
      "T-stat: 2.4461361151674756\n",
      "pval: 0.01870918838616326\n"
     ]
    }
   ],
   "source": [
    "alpha = 0.05\n",
    "\n",
    "t_stat, tp_val = stats.ttest_ind(sol_fridays['SOLUSDT'], sol_mondays['SOLUSDT'])\n",
    "\n",
    "print(f\"T-stat: {t_stat}\")\n",
    "print(f\"pval: {tp_val}\")"
   ]
  },
  {
   "cell_type": "code",
   "execution_count": 33,
   "id": "fed299af",
   "metadata": {},
   "outputs": [
    {
     "name": "stdout",
     "output_type": "stream",
     "text": [
      "T-stat: 2.9953275647566135\n",
      "pval: 0.004583600634308595\n"
     ]
    }
   ],
   "source": [
    "t_stat2, tp_val2 = stats.ttest_ind(btc_tuesdays['XBTUSDT'], btc_mondays['XBTUSDT'])\n",
    "\n",
    "print(f\"T-stat: {t_stat2}\")\n",
    "print(f\"pval: {tp_val2}\")"
   ]
  },
  {
   "cell_type": "code",
   "execution_count": null,
   "id": "87a2197d",
   "metadata": {},
   "outputs": [],
   "source": [
    "# So this is *very* significant. We can very confidently reject the null hypothesis and accept the \n",
    "# alternative hypothesis that there is a *signficant* difference in the returns of btc on monday vs. tuesday and \n",
    "# sol on monday vs. friday.\n",
    "\n",
    "# While I cannot say with certainty that these phenomena are independent, the severe lack of correlation\n",
    "# and existence of randomness is enough for me to conclude that these phenomena warrant independent trading \n",
    "# strategies regardless of the performance of one or the other (i.e. short monday, long tuesday/friday). \n",
    "# Also, one may desire more historical data and more observations before making such conclusions. \n",
    "# This project has been created such that it can easily be modified for such an analysis and I have done such an\n",
    "# analysis with this code prior. This is simply the version of which I chose to upload.\n",
    "\n",
    "# An important note is that market regimes change very, very often. There is no guarantee that this phenomena\n",
    "# persists and just because more historical data may validate (or invalidate) the existence of this phenomena,\n",
    "# does not mean that what has been found in not statistically significant and not actionable today.  \n",
    "\n",
    "# To reiterate other findings: it is also important to note that just because btc prints a positive/negatve return \n",
    "# on tuesday does not necessarily mean solana will print a positive/negative return on friday. Furthermore, \n",
    "# just because btc and/or solana prints a positive/negative return on monday does not mean that they \n",
    "# will print a positive/negative return on tuesday/friday as well. \n",
    "\n",
    "# It may be important to note that we saw a slight decorrelation between the returns of btc on tuesday and\n",
    "# the returns of sol on friday. Further research may be done to optimize this analysis, but I think sufficient\n",
    "# research has been done to reveal an executeable edge in the difference of returns for btc on Monday/Tuesday\n",
    "# and sol on Monday/Friday. In the future, there may be predictability in the phenomena gained from the\n",
    "# decorrelation factor observed. This may be able to be applied to the risk management of the long trade for sol\n",
    "# on fridays. Could possibly indicate lower likelihood of success and thus lessen the size of a trade or higher\n",
    "# likelihood of success and thus increase size. Although, this is getting too far in depth for a rather simple trade\n",
    "# application which may not even exist for much longer as market regimes change quite often. Furthermore, \n",
    "# there is a greater likilhood that the decorrelation observed is due to other market conditions.\n",
    "\n",
    "# Project codebase will be used in the future to analyze other daily seasonality effects of other assets across\n",
    "# other days. \n",
    "\n",
    "# overall, very happy with my first project."
   ]
  }
 ],
 "metadata": {
  "kernelspec": {
   "display_name": "Python 3 (ipykernel)",
   "language": "python",
   "name": "python3"
  },
  "language_info": {
   "codemirror_mode": {
    "name": "ipython",
    "version": 3
   },
   "file_extension": ".py",
   "mimetype": "text/x-python",
   "name": "python",
   "nbconvert_exporter": "python",
   "pygments_lexer": "ipython3",
   "version": "3.10.4"
  }
 },
 "nbformat": 4,
 "nbformat_minor": 5
}
